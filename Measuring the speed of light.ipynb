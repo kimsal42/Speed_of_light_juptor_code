{
 "cells": [
  {
   "cell_type": "code",
   "execution_count": 1,
   "metadata": {},
   "outputs": [],
   "source": [
    "# import modules\n",
    "import pandas as pd\n",
    "import numpy as np\n",
    "from numpy import array, arange, pi, exp, sin, cos, polyfit, poly1d, linspace, zeros, flipud, sqrt\n",
    "import matplotlib.pyplot as plt\n",
    "from matplotlib.pyplot import *\n",
    "import scipy\n",
    "from scipy.optimize import curve_fit\n",
    "#resize graphs so they are big\n",
    "%matplotlib inline\n",
    "import matplotlib as mpl\n",
    "mpl.rcParams['figure.figsize'] = (12,8)\n",
    "mpl.rcParams['font.size'] = 14\n",
    "mpl.rcParams['legend.fontsize'] = 14\n",
    "from sklearn.cluster import MeanShift, estimate_bandwidth\n",
    "from sklearn.datasets import make_blobs"
   ]
  },
  {
   "cell_type": "markdown",
   "metadata": {},
   "source": [
    "Uploading a a csv file."
   ]
  },
  {
   "cell_type": "code",
   "execution_count": 55,
   "metadata": {},
   "outputs": [
    {
     "name": "stdout",
     "output_type": "stream",
     "text": [
      "                    0                   1   2             3     4   5\n",
      "0       Record Length        2.500000e+03 NaN -1.600000e-07 -1.26 NaN\n",
      "1     Sample Interval        4.000000e-10 NaN -1.596000e-07 -1.26 NaN\n",
      "2       Trigger Point  4.000000000000e+02 NaN -1.592000e-07 -1.26 NaN\n",
      "3                 NaN                 NaN NaN -1.588000e-07 -1.26 NaN\n",
      "4                 NaN                 NaN NaN -1.584000e-07 -1.24 NaN\n",
      "...               ...                 ...  ..           ...   ...  ..\n",
      "2495              NaN                 NaN NaN  8.380000e-07  0.92 NaN\n",
      "2496              NaN                 NaN NaN  8.384000e-07  0.92 NaN\n",
      "2497              NaN                 NaN NaN  8.388000e-07  0.92 NaN\n",
      "2498              NaN                 NaN NaN  8.392000e-07  0.92 NaN\n",
      "2499              NaN                 NaN NaN  8.396000e-07  0.92 NaN\n",
      "\n",
      "[2500 rows x 6 columns]\n"
     ]
    }
   ],
   "source": [
    "#df = pd.read_csv('F0000CH1.csv', header = None)\n",
    "#df2 = pd.read_csv('F0000CH2.csv', header = None)\n",
    "df = pd.read_csv (r'C:\\Users\\kimbugwef\\Desktop\\University\\senior\\Advanced lab\\Advanced lab\\speed_light_data\\ALL0006\\F0006CH1.csv', header = None)\n",
    "df2 = pd.read_csv (r'C:\\Users\\kimbugwef\\Desktop\\University\\senior\\Advanced lab\\Advanced lab\\speed_light_data\\ALL0006\\F0006CH2.csv', header = None)\n",
    "print(df2)"
   ]
  },
  {
   "cell_type": "code",
   "execution_count": 56,
   "metadata": {},
   "outputs": [],
   "source": [
    "Time = df[3] # selecting the time row from the column\n",
    "Time2 = df2[3]\n",
    "\n",
    "Voltage = df[4] # selecting the voltage \n",
    "Voltage2 = df2[4] # selecting the voltage"
   ]
  },
  {
   "cell_type": "code",
   "execution_count": 57,
   "metadata": {},
   "outputs": [
    {
     "data": {
      "text/plain": [
       "[<matplotlib.lines.Line2D at 0x22d68bcbf40>]"
      ]
     },
     "execution_count": 57,
     "metadata": {},
     "output_type": "execute_result"
    },
    {
     "data": {
      "image/png": "[encoded data removed]",
      "text/plain": [
       "<Figure size 864x576 with 1 Axes>"
      ]
     },
     "metadata": {
      "needs_background": "light"
     },
     "output_type": "display_data"
    }
   ],
   "source": [
    "plt.plot(Time, Voltage, '*-c')\n",
    "plt.plot(Time2, Voltage2, '*-c')"
   ]
  },
  {
   "cell_type": "code",
   "execution_count": 58,
   "metadata": {},
   "outputs": [
    {
     "data": {
      "text/html": [
       "<div>\n",
       "<style scoped>\n",
       "    .dataframe tbody tr th:only-of-type {\n",
       "        vertical-align: middle;\n",
       "    }\n",
       "\n",
       "    .dataframe tbody tr th {\n",
       "        vertical-align: top;\n",
       "    }\n",
       "\n",
       "    .dataframe thead th {\n",
       "        text-align: right;\n",
       "    }\n",
       "</style>\n",
       "<table border=\"1\" class=\"dataframe\">\n",
       "  <thead>\n",
       "    <tr style=\"text-align: right;\">\n",
       "      <th></th>\n",
       "      <th>Time</th>\n",
       "      <th>Voltage</th>\n",
       "      <th>Voltage2</th>\n",
       "    </tr>\n",
       "  </thead>\n",
       "  <tbody>\n",
       "    <tr>\n",
       "      <th>0</th>\n",
       "      <td>-1.600000e-07</td>\n",
       "      <td>-1.68</td>\n",
       "      <td>-1.26</td>\n",
       "    </tr>\n",
       "    <tr>\n",
       "      <th>1</th>\n",
       "      <td>-1.596000e-07</td>\n",
       "      <td>-1.68</td>\n",
       "      <td>-1.26</td>\n",
       "    </tr>\n",
       "    <tr>\n",
       "      <th>2</th>\n",
       "      <td>-1.592000e-07</td>\n",
       "      <td>-1.68</td>\n",
       "      <td>-1.26</td>\n",
       "    </tr>\n",
       "    <tr>\n",
       "      <th>3</th>\n",
       "      <td>-1.588000e-07</td>\n",
       "      <td>-1.68</td>\n",
       "      <td>-1.26</td>\n",
       "    </tr>\n",
       "    <tr>\n",
       "      <th>4</th>\n",
       "      <td>-1.584000e-07</td>\n",
       "      <td>-1.68</td>\n",
       "      <td>-1.24</td>\n",
       "    </tr>\n",
       "    <tr>\n",
       "      <th>...</th>\n",
       "      <td>...</td>\n",
       "      <td>...</td>\n",
       "      <td>...</td>\n",
       "    </tr>\n",
       "    <tr>\n",
       "      <th>2495</th>\n",
       "      <td>8.380000e-07</td>\n",
       "      <td>2.20</td>\n",
       "      <td>0.92</td>\n",
       "    </tr>\n",
       "    <tr>\n",
       "      <th>2496</th>\n",
       "      <td>8.384000e-07</td>\n",
       "      <td>2.20</td>\n",
       "      <td>0.92</td>\n",
       "    </tr>\n",
       "    <tr>\n",
       "      <th>2497</th>\n",
       "      <td>8.388000e-07</td>\n",
       "      <td>2.16</td>\n",
       "      <td>0.92</td>\n",
       "    </tr>\n",
       "    <tr>\n",
       "      <th>2498</th>\n",
       "      <td>8.392000e-07</td>\n",
       "      <td>2.16</td>\n",
       "      <td>0.92</td>\n",
       "    </tr>\n",
       "    <tr>\n",
       "      <th>2499</th>\n",
       "      <td>8.396000e-07</td>\n",
       "      <td>2.16</td>\n",
       "      <td>0.92</td>\n",
       "    </tr>\n",
       "  </tbody>\n",
       "</table>\n",
       "<p>2500 rows × 3 columns</p>\n",
       "</div>"
      ],
      "text/plain": [
       "              Time  Voltage  Voltage2\n",
       "0    -1.600000e-07    -1.68     -1.26\n",
       "1    -1.596000e-07    -1.68     -1.26\n",
       "2    -1.592000e-07    -1.68     -1.26\n",
       "3    -1.588000e-07    -1.68     -1.26\n",
       "4    -1.584000e-07    -1.68     -1.24\n",
       "...            ...      ...       ...\n",
       "2495  8.380000e-07     2.20      0.92\n",
       "2496  8.384000e-07     2.20      0.92\n",
       "2497  8.388000e-07     2.16      0.92\n",
       "2498  8.392000e-07     2.16      0.92\n",
       "2499  8.396000e-07     2.16      0.92\n",
       "\n",
       "[2500 rows x 3 columns]"
      ]
     },
     "execution_count": 58,
     "metadata": {},
     "output_type": "execute_result"
    }
   ],
   "source": [
    "data= {\"Time\":Time, 'Voltage':Voltage,'Voltage2':Voltage2}\n",
    "df = pd.DataFrame(data=data)\n",
    "df\n"
   ]
  },
  {
   "cell_type": "code",
   "execution_count": 41,
   "metadata": {},
   "outputs": [
    {
     "data": {
      "text/plain": [
       "\"#just some imports\\nimport numpy as np\\nimport pandas as pd\\nimport matplotlib.pyplot as plt\\n\\nplt.style.use('ggplot')\\n\\n# load data\\n\\n# normalization before ACF\\ndef normalize(data):\\n    return (data - np.mean(data, axis=0).reshape((1, -11))) / (np.std(data, axis=0).reshape((1, -1)))\\n\\n\\n# select subset of columns, seems relevant as a group\\nSCOLS = ['Voltage','Voltage2']\\n\\n# just to see the data\\nf = plt.figure()\\nax = f.add_subplot(111)\\ndf[SCOLS[:2]].iloc[::10].plot(ax=ax)\\nax.set_title('Raw data')\\n\\n# normalization\\nnormalized = normalize(df[SCOLS].values)\\nf = plt.figure()\\nax = f.add_subplot(111)\\nax.plot(np.arange(normalized.shape[0]),normalized[:,0], label='TW_A1')\\nax.plot(np.arange(normalized.shape[0]),normalized[:,1], label='W_A1')\\nax.set_title('Normalized')\\n\\n# ACF between two components\\nx1x2 = np.correlate(normalized[:, 0], normalized[:, 1], 'full')\\n\\n# see the results\\nf = plt.figure()\\nax = f.add_subplot(111)\\nax.plot(x1x2)\\nax.set_title('ACF')\\n\\n# mainloop\\nplt.show()\""
      ]
     },
     "execution_count": 41,
     "metadata": {},
     "output_type": "execute_result"
    }
   ],
   "source": [
    "\"\"\"#just some imports\n",
    "import numpy as np\n",
    "import pandas as pd\n",
    "import matplotlib.pyplot as plt\n",
    "\n",
    "plt.style.use('ggplot')\n",
    "\n",
    "# load data\n",
    "\n",
    "# normalization before ACF\n",
    "def normalize(data):\n",
    "    return (data - np.mean(data, axis=0).reshape((1, -11))) / (np.std(data, axis=0).reshape((1, -1)))\n",
    "\n",
    "\n",
    "# select subset of columns, seems relevant as a group\n",
    "SCOLS = ['Voltage','Voltage2']\n",
    "\n",
    "# just to see the data\n",
    "f = plt.figure()\n",
    "ax = f.add_subplot(111)\n",
    "df[SCOLS[:2]].iloc[::10].plot(ax=ax)\n",
    "ax.set_title('Raw data')\n",
    "\n",
    "# normalization\n",
    "normalized = normalize(df[SCOLS].values)\n",
    "f = plt.figure()\n",
    "ax = f.add_subplot(111)\n",
    "ax.plot(np.arange(normalized.shape[0]),normalized[:,0], label='TW_A1')\n",
    "ax.plot(np.arange(normalized.shape[0]),normalized[:,1], label='W_A1')\n",
    "ax.set_title('Normalized')\n",
    "\n",
    "# ACF between two components\n",
    "x1x2 = np.correlate(normalized[:, 0], normalized[:, 1], 'full')\n",
    "\n",
    "# see the results\n",
    "f = plt.figure()\n",
    "ax = f.add_subplot(111)\n",
    "ax.plot(x1x2)\n",
    "ax.set_title('ACF')\n",
    "\n",
    "# mainloop\n",
    "plt.show()\"\"\""
   ]
  },
  {
   "cell_type": "code",
   "execution_count": 59,
   "metadata": {},
   "outputs": [
    {
     "data": {
      "text/html": [
       "<div>\n",
       "<style scoped>\n",
       "    .dataframe tbody tr th:only-of-type {\n",
       "        vertical-align: middle;\n",
       "    }\n",
       "\n",
       "    .dataframe tbody tr th {\n",
       "        vertical-align: top;\n",
       "    }\n",
       "\n",
       "    .dataframe thead th {\n",
       "        text-align: right;\n",
       "    }\n",
       "</style>\n",
       "<table border=\"1\" class=\"dataframe\">\n",
       "  <thead>\n",
       "    <tr style=\"text-align: right;\">\n",
       "      <th></th>\n",
       "      <th>Time2</th>\n",
       "      <th>Voltage2</th>\n",
       "    </tr>\n",
       "  </thead>\n",
       "  <tbody>\n",
       "    <tr>\n",
       "      <th>0</th>\n",
       "      <td>-1.600000e-07</td>\n",
       "      <td>-1.26</td>\n",
       "    </tr>\n",
       "    <tr>\n",
       "      <th>1</th>\n",
       "      <td>-1.596000e-07</td>\n",
       "      <td>-1.26</td>\n",
       "    </tr>\n",
       "    <tr>\n",
       "      <th>2</th>\n",
       "      <td>-1.592000e-07</td>\n",
       "      <td>-1.26</td>\n",
       "    </tr>\n",
       "    <tr>\n",
       "      <th>3</th>\n",
       "      <td>-1.588000e-07</td>\n",
       "      <td>-1.26</td>\n",
       "    </tr>\n",
       "    <tr>\n",
       "      <th>4</th>\n",
       "      <td>-1.584000e-07</td>\n",
       "      <td>-1.24</td>\n",
       "    </tr>\n",
       "    <tr>\n",
       "      <th>...</th>\n",
       "      <td>...</td>\n",
       "      <td>...</td>\n",
       "    </tr>\n",
       "    <tr>\n",
       "      <th>2495</th>\n",
       "      <td>8.380000e-07</td>\n",
       "      <td>0.92</td>\n",
       "    </tr>\n",
       "    <tr>\n",
       "      <th>2496</th>\n",
       "      <td>8.384000e-07</td>\n",
       "      <td>0.92</td>\n",
       "    </tr>\n",
       "    <tr>\n",
       "      <th>2497</th>\n",
       "      <td>8.388000e-07</td>\n",
       "      <td>0.92</td>\n",
       "    </tr>\n",
       "    <tr>\n",
       "      <th>2498</th>\n",
       "      <td>8.392000e-07</td>\n",
       "      <td>0.92</td>\n",
       "    </tr>\n",
       "    <tr>\n",
       "      <th>2499</th>\n",
       "      <td>8.396000e-07</td>\n",
       "      <td>0.92</td>\n",
       "    </tr>\n",
       "  </tbody>\n",
       "</table>\n",
       "<p>2500 rows × 2 columns</p>\n",
       "</div>"
      ],
      "text/plain": [
       "             Time2  Voltage2\n",
       "0    -1.600000e-07     -1.26\n",
       "1    -1.596000e-07     -1.26\n",
       "2    -1.592000e-07     -1.26\n",
       "3    -1.588000e-07     -1.26\n",
       "4    -1.584000e-07     -1.24\n",
       "...            ...       ...\n",
       "2495  8.380000e-07      0.92\n",
       "2496  8.384000e-07      0.92\n",
       "2497  8.388000e-07      0.92\n",
       "2498  8.392000e-07      0.92\n",
       "2499  8.396000e-07      0.92\n",
       "\n",
       "[2500 rows x 2 columns]"
      ]
     },
     "execution_count": 59,
     "metadata": {},
     "output_type": "execute_result"
    }
   ],
   "source": [
    "data2= {\"Time2\":Time2, 'Voltage2':Voltage2}\n",
    "df2 = pd.DataFrame(data=data2)\n",
    "df2"
   ]
  },
  {
   "cell_type": "code",
   "execution_count": 60,
   "metadata": {},
   "outputs": [
    {
     "data": {
      "text/html": [
       "<div>\n",
       "<style scoped>\n",
       "    .dataframe tbody tr th:only-of-type {\n",
       "        vertical-align: middle;\n",
       "    }\n",
       "\n",
       "    .dataframe tbody tr th {\n",
       "        vertical-align: top;\n",
       "    }\n",
       "\n",
       "    .dataframe thead th {\n",
       "        text-align: right;\n",
       "    }\n",
       "</style>\n",
       "<table border=\"1\" class=\"dataframe\">\n",
       "  <thead>\n",
       "    <tr style=\"text-align: right;\">\n",
       "      <th></th>\n",
       "      <th>Time</th>\n",
       "      <th>Voltage</th>\n",
       "      <th>Voltage2</th>\n",
       "      <th>new_col</th>\n",
       "    </tr>\n",
       "  </thead>\n",
       "  <tbody>\n",
       "    <tr>\n",
       "      <th>0</th>\n",
       "      <td>-1.600000e-07</td>\n",
       "      <td>-1.68</td>\n",
       "      <td>-1.26</td>\n",
       "      <td>NaN</td>\n",
       "    </tr>\n",
       "    <tr>\n",
       "      <th>1</th>\n",
       "      <td>-1.596000e-07</td>\n",
       "      <td>-1.68</td>\n",
       "      <td>-1.26</td>\n",
       "      <td>NaN</td>\n",
       "    </tr>\n",
       "    <tr>\n",
       "      <th>2</th>\n",
       "      <td>-1.592000e-07</td>\n",
       "      <td>-1.68</td>\n",
       "      <td>-1.26</td>\n",
       "      <td>NaN</td>\n",
       "    </tr>\n",
       "    <tr>\n",
       "      <th>3</th>\n",
       "      <td>-1.588000e-07</td>\n",
       "      <td>-1.68</td>\n",
       "      <td>-1.26</td>\n",
       "      <td>NaN</td>\n",
       "    </tr>\n",
       "    <tr>\n",
       "      <th>4</th>\n",
       "      <td>-1.584000e-07</td>\n",
       "      <td>-1.68</td>\n",
       "      <td>-1.24</td>\n",
       "      <td>NaN</td>\n",
       "    </tr>\n",
       "    <tr>\n",
       "      <th>...</th>\n",
       "      <td>...</td>\n",
       "      <td>...</td>\n",
       "      <td>...</td>\n",
       "      <td>...</td>\n",
       "    </tr>\n",
       "    <tr>\n",
       "      <th>2495</th>\n",
       "      <td>8.380000e-07</td>\n",
       "      <td>2.20</td>\n",
       "      <td>0.92</td>\n",
       "      <td>2.1560</td>\n",
       "    </tr>\n",
       "    <tr>\n",
       "      <th>2496</th>\n",
       "      <td>8.384000e-07</td>\n",
       "      <td>2.20</td>\n",
       "      <td>0.92</td>\n",
       "      <td>2.1570</td>\n",
       "    </tr>\n",
       "    <tr>\n",
       "      <th>2497</th>\n",
       "      <td>8.388000e-07</td>\n",
       "      <td>2.16</td>\n",
       "      <td>0.92</td>\n",
       "      <td>2.1575</td>\n",
       "    </tr>\n",
       "    <tr>\n",
       "      <th>2498</th>\n",
       "      <td>8.392000e-07</td>\n",
       "      <td>2.16</td>\n",
       "      <td>0.92</td>\n",
       "      <td>2.1575</td>\n",
       "    </tr>\n",
       "    <tr>\n",
       "      <th>2499</th>\n",
       "      <td>8.396000e-07</td>\n",
       "      <td>2.16</td>\n",
       "      <td>0.92</td>\n",
       "      <td>2.1570</td>\n",
       "    </tr>\n",
       "  </tbody>\n",
       "</table>\n",
       "<p>2500 rows × 4 columns</p>\n",
       "</div>"
      ],
      "text/plain": [
       "              Time  Voltage  Voltage2  new_col\n",
       "0    -1.600000e-07    -1.68     -1.26      NaN\n",
       "1    -1.596000e-07    -1.68     -1.26      NaN\n",
       "2    -1.592000e-07    -1.68     -1.26      NaN\n",
       "3    -1.588000e-07    -1.68     -1.26      NaN\n",
       "4    -1.584000e-07    -1.68     -1.24      NaN\n",
       "...            ...      ...       ...      ...\n",
       "2495  8.380000e-07     2.20      0.92   2.1560\n",
       "2496  8.384000e-07     2.20      0.92   2.1570\n",
       "2497  8.388000e-07     2.16      0.92   2.1575\n",
       "2498  8.392000e-07     2.16      0.92   2.1575\n",
       "2499  8.396000e-07     2.16      0.92   2.1570\n",
       "\n",
       "[2500 rows x 4 columns]"
      ]
     },
     "execution_count": 60,
     "metadata": {},
     "output_type": "execute_result"
    }
   ],
   "source": [
    "df['new_col'] = df['Voltage'].rolling(80).mean()\n",
    "df.head(6)\n",
    "df"
   ]
  },
  {
   "cell_type": "code",
   "execution_count": 61,
   "metadata": {},
   "outputs": [
    {
     "data": {
      "text/html": [
       "<div>\n",
       "<style scoped>\n",
       "    .dataframe tbody tr th:only-of-type {\n",
       "        vertical-align: middle;\n",
       "    }\n",
       "\n",
       "    .dataframe tbody tr th {\n",
       "        vertical-align: top;\n",
       "    }\n",
       "\n",
       "    .dataframe thead th {\n",
       "        text-align: right;\n",
       "    }\n",
       "</style>\n",
       "<table border=\"1\" class=\"dataframe\">\n",
       "  <thead>\n",
       "    <tr style=\"text-align: right;\">\n",
       "      <th></th>\n",
       "      <th>Time2</th>\n",
       "      <th>Voltage2</th>\n",
       "      <th>new_col2</th>\n",
       "    </tr>\n",
       "  </thead>\n",
       "  <tbody>\n",
       "    <tr>\n",
       "      <th>0</th>\n",
       "      <td>-1.600000e-07</td>\n",
       "      <td>-1.26</td>\n",
       "      <td>NaN</td>\n",
       "    </tr>\n",
       "    <tr>\n",
       "      <th>1</th>\n",
       "      <td>-1.596000e-07</td>\n",
       "      <td>-1.26</td>\n",
       "      <td>NaN</td>\n",
       "    </tr>\n",
       "    <tr>\n",
       "      <th>2</th>\n",
       "      <td>-1.592000e-07</td>\n",
       "      <td>-1.26</td>\n",
       "      <td>NaN</td>\n",
       "    </tr>\n",
       "    <tr>\n",
       "      <th>3</th>\n",
       "      <td>-1.588000e-07</td>\n",
       "      <td>-1.26</td>\n",
       "      <td>NaN</td>\n",
       "    </tr>\n",
       "    <tr>\n",
       "      <th>4</th>\n",
       "      <td>-1.584000e-07</td>\n",
       "      <td>-1.24</td>\n",
       "      <td>NaN</td>\n",
       "    </tr>\n",
       "    <tr>\n",
       "      <th>...</th>\n",
       "      <td>...</td>\n",
       "      <td>...</td>\n",
       "      <td>...</td>\n",
       "    </tr>\n",
       "    <tr>\n",
       "      <th>2495</th>\n",
       "      <td>8.380000e-07</td>\n",
       "      <td>0.92</td>\n",
       "      <td>0.924</td>\n",
       "    </tr>\n",
       "    <tr>\n",
       "      <th>2496</th>\n",
       "      <td>8.384000e-07</td>\n",
       "      <td>0.92</td>\n",
       "      <td>0.924</td>\n",
       "    </tr>\n",
       "    <tr>\n",
       "      <th>2497</th>\n",
       "      <td>8.388000e-07</td>\n",
       "      <td>0.92</td>\n",
       "      <td>0.924</td>\n",
       "    </tr>\n",
       "    <tr>\n",
       "      <th>2498</th>\n",
       "      <td>8.392000e-07</td>\n",
       "      <td>0.92</td>\n",
       "      <td>0.924</td>\n",
       "    </tr>\n",
       "    <tr>\n",
       "      <th>2499</th>\n",
       "      <td>8.396000e-07</td>\n",
       "      <td>0.92</td>\n",
       "      <td>0.924</td>\n",
       "    </tr>\n",
       "  </tbody>\n",
       "</table>\n",
       "<p>2500 rows × 3 columns</p>\n",
       "</div>"
      ],
      "text/plain": [
       "             Time2  Voltage2  new_col2\n",
       "0    -1.600000e-07     -1.26       NaN\n",
       "1    -1.596000e-07     -1.26       NaN\n",
       "2    -1.592000e-07     -1.26       NaN\n",
       "3    -1.588000e-07     -1.26       NaN\n",
       "4    -1.584000e-07     -1.24       NaN\n",
       "...            ...       ...       ...\n",
       "2495  8.380000e-07      0.92     0.924\n",
       "2496  8.384000e-07      0.92     0.924\n",
       "2497  8.388000e-07      0.92     0.924\n",
       "2498  8.392000e-07      0.92     0.924\n",
       "2499  8.396000e-07      0.92     0.924\n",
       "\n",
       "[2500 rows x 3 columns]"
      ]
     },
     "execution_count": 61,
     "metadata": {},
     "output_type": "execute_result"
    }
   ],
   "source": [
    "df2['new_col2'] = df2['Voltage2'].rolling(80).mean()\n",
    "df2.head(6)\n",
    "df2"
   ]
  },
  {
   "cell_type": "code",
   "execution_count": 62,
   "metadata": {},
   "outputs": [
    {
     "data": {
      "image/png": "[encoded data removed]",
      "text/plain": [
       "<Figure size 864x576 with 1 Axes>"
      ]
     },
     "metadata": {
      "needs_background": "light"
     },
     "output_type": "display_data"
    }
   ],
   "source": [
    "plt.plot(df['Voltage'], 'r-')\n",
    "plt.plot(df2['Voltage2'], 'o-')\n",
    "plt.ylabel('Voltage (V)')\n",
    "\n",
    "# original version\n",
    "# smooth_data = pd.rolling_mean(ts,5).plot(style='k')\n",
    "# pandas has changed; so, here's the new version:\n",
    "smooth_data = pd.Series(df['Voltage']).rolling(window=7).mean().plot(style='k')\n",
    "smooth_data2 = pd.Series(df2['Voltage2']).rolling(window=7).mean().plot(style='k')\n",
    "plt.show()"
   ]
  },
  {
   "cell_type": "code",
   "execution_count": 187,
   "metadata": {},
   "outputs": [
    {
     "ename": "KeyError",
     "evalue": "1.52",
     "output_type": "error",
     "traceback": [
      "\u001b[1;31m---------------------------------------------------------------------------\u001b[0m",
      "\u001b[1;31mKeyError\u001b[0m                                  Traceback (most recent call last)",
      "\u001b[1;32m<ipython-input-187-43cb98a065f1>\u001b[0m in \u001b[0;36m<module>\u001b[1;34m\u001b[0m\n\u001b[0;32m      2\u001b[0m     \u001b[1;32mif\u001b[0m \u001b[0mi\u001b[0m \u001b[1;33m>\u001b[0m \u001b[1;36m1.5\u001b[0m\u001b[1;33m:\u001b[0m\u001b[1;33m\u001b[0m\u001b[1;33m\u001b[0m\u001b[0m\n\u001b[0;32m      3\u001b[0m         \u001b[0mt\u001b[0m \u001b[1;33m=\u001b[0m \u001b[0mdf\u001b[0m\u001b[1;33m[\u001b[0m\u001b[1;34m'Time'\u001b[0m\u001b[1;33m]\u001b[0m\u001b[1;33m\u001b[0m\u001b[1;33m\u001b[0m\u001b[0m\n\u001b[1;32m----> 4\u001b[1;33m         \u001b[0mprint\u001b[0m \u001b[1;33m(\u001b[0m\u001b[0mt\u001b[0m\u001b[1;33m[\u001b[0m\u001b[0mi\u001b[0m\u001b[1;33m]\u001b[0m\u001b[1;33m)\u001b[0m\u001b[1;33m\u001b[0m\u001b[1;33m\u001b[0m\u001b[0m\n\u001b[0m",
      "\u001b[1;32m~\\Anaconda3\\lib\\site-packages\\pandas\\core\\series.py\u001b[0m in \u001b[0;36m__getitem__\u001b[1;34m(self, key)\u001b[0m\n\u001b[0;32m    851\u001b[0m \u001b[1;33m\u001b[0m\u001b[0m\n\u001b[0;32m    852\u001b[0m         \u001b[1;32melif\u001b[0m \u001b[0mkey_is_scalar\u001b[0m\u001b[1;33m:\u001b[0m\u001b[1;33m\u001b[0m\u001b[1;33m\u001b[0m\u001b[0m\n\u001b[1;32m--> 853\u001b[1;33m             \u001b[1;32mreturn\u001b[0m \u001b[0mself\u001b[0m\u001b[1;33m.\u001b[0m\u001b[0m_get_value\u001b[0m\u001b[1;33m(\u001b[0m\u001b[0mkey\u001b[0m\u001b[1;33m)\u001b[0m\u001b[1;33m\u001b[0m\u001b[1;33m\u001b[0m\u001b[0m\n\u001b[0m\u001b[0;32m    854\u001b[0m \u001b[1;33m\u001b[0m\u001b[0m\n\u001b[0;32m    855\u001b[0m         \u001b[1;32mif\u001b[0m \u001b[0mis_hashable\u001b[0m\u001b[1;33m(\u001b[0m\u001b[0mkey\u001b[0m\u001b[1;33m)\u001b[0m\u001b[1;33m:\u001b[0m\u001b[1;33m\u001b[0m\u001b[1;33m\u001b[0m\u001b[0m\n",
      "\u001b[1;32m~\\Anaconda3\\lib\\site-packages\\pandas\\core\\series.py\u001b[0m in \u001b[0;36m_get_value\u001b[1;34m(self, label, takeable)\u001b[0m\n\u001b[0;32m    959\u001b[0m \u001b[1;33m\u001b[0m\u001b[0m\n\u001b[0;32m    960\u001b[0m         \u001b[1;31m# Similar to Index.get_value, but we do not fall back to positional\u001b[0m\u001b[1;33m\u001b[0m\u001b[1;33m\u001b[0m\u001b[1;33m\u001b[0m\u001b[0m\n\u001b[1;32m--> 961\u001b[1;33m         \u001b[0mloc\u001b[0m \u001b[1;33m=\u001b[0m \u001b[0mself\u001b[0m\u001b[1;33m.\u001b[0m\u001b[0mindex\u001b[0m\u001b[1;33m.\u001b[0m\u001b[0mget_loc\u001b[0m\u001b[1;33m(\u001b[0m\u001b[0mlabel\u001b[0m\u001b[1;33m)\u001b[0m\u001b[1;33m\u001b[0m\u001b[1;33m\u001b[0m\u001b[0m\n\u001b[0m\u001b[0;32m    962\u001b[0m         \u001b[1;32mreturn\u001b[0m \u001b[0mself\u001b[0m\u001b[1;33m.\u001b[0m\u001b[0mindex\u001b[0m\u001b[1;33m.\u001b[0m\u001b[0m_get_values_for_loc\u001b[0m\u001b[1;33m(\u001b[0m\u001b[0mself\u001b[0m\u001b[1;33m,\u001b[0m \u001b[0mloc\u001b[0m\u001b[1;33m,\u001b[0m \u001b[0mlabel\u001b[0m\u001b[1;33m)\u001b[0m\u001b[1;33m\u001b[0m\u001b[1;33m\u001b[0m\u001b[0m\n\u001b[0;32m    963\u001b[0m \u001b[1;33m\u001b[0m\u001b[0m\n",
      "\u001b[1;32m~\\Anaconda3\\lib\\site-packages\\pandas\\core\\indexes\\range.py\u001b[0m in \u001b[0;36mget_loc\u001b[1;34m(self, key, method, tolerance)\u001b[0m\n\u001b[0;32m    352\u001b[0m                 \u001b[1;32mexcept\u001b[0m \u001b[0mValueError\u001b[0m \u001b[1;32mas\u001b[0m \u001b[0merr\u001b[0m\u001b[1;33m:\u001b[0m\u001b[1;33m\u001b[0m\u001b[1;33m\u001b[0m\u001b[0m\n\u001b[0;32m    353\u001b[0m                     \u001b[1;32mraise\u001b[0m \u001b[0mKeyError\u001b[0m\u001b[1;33m(\u001b[0m\u001b[0mkey\u001b[0m\u001b[1;33m)\u001b[0m \u001b[1;32mfrom\u001b[0m \u001b[0merr\u001b[0m\u001b[1;33m\u001b[0m\u001b[1;33m\u001b[0m\u001b[0m\n\u001b[1;32m--> 354\u001b[1;33m             \u001b[1;32mraise\u001b[0m \u001b[0mKeyError\u001b[0m\u001b[1;33m(\u001b[0m\u001b[0mkey\u001b[0m\u001b[1;33m)\u001b[0m\u001b[1;33m\u001b[0m\u001b[1;33m\u001b[0m\u001b[0m\n\u001b[0m\u001b[0;32m    355\u001b[0m         \u001b[1;32mreturn\u001b[0m \u001b[0msuper\u001b[0m\u001b[1;33m(\u001b[0m\u001b[1;33m)\u001b[0m\u001b[1;33m.\u001b[0m\u001b[0mget_loc\u001b[0m\u001b[1;33m(\u001b[0m\u001b[0mkey\u001b[0m\u001b[1;33m,\u001b[0m \u001b[0mmethod\u001b[0m\u001b[1;33m=\u001b[0m\u001b[0mmethod\u001b[0m\u001b[1;33m,\u001b[0m \u001b[0mtolerance\u001b[0m\u001b[1;33m=\u001b[0m\u001b[0mtolerance\u001b[0m\u001b[1;33m)\u001b[0m\u001b[1;33m\u001b[0m\u001b[1;33m\u001b[0m\u001b[0m\n\u001b[0;32m    356\u001b[0m \u001b[1;33m\u001b[0m\u001b[0m\n",
      "\u001b[1;31mKeyError\u001b[0m: 1.52"
     ]
    }
   ],
   "source": [
    "for i in df['Voltage']:\n",
    "    if i > 1.5:\n",
    "        t = df['Time']\n",
    "        print (t[i])"
   ]
  },
  {
   "cell_type": "code",
   "execution_count": 165,
   "metadata": {},
   "outputs": [],
   "source": [
    "signal1 = pd.Series(df['Voltage']).rolling(window=7).mean()\n",
    "\n",
    "signal2 = pd.Series(df2['Voltage2']).rolling(window=7).mean()"
   ]
  },
  {
   "cell_type": "code",
   "execution_count": 173,
   "metadata": {},
   "outputs": [],
   "source": [
    "def rfft_xcorr(x, y):\n",
    "    M = len(x) + len(y) - 1\n",
    "    N = 2 ** int(np.ceil(np.log2(M)))\n",
    "    X = np.fft.rfft(x, N)\n",
    "    Y = np.fft.rfft(y, N)\n",
    "    cxy = np.fft.irfft(X * np.conj(Y))\n",
    "    cxy = np.hstack((cxy[:len(x)], cxy[N-len(y)+1:]))\n",
    "    return cxy"
   ]
  },
  {
   "cell_type": "code",
   "execution_count": 175,
   "metadata": {},
   "outputs": [
    {
     "data": {
      "text/plain": [
       "array([nan, nan, nan, ..., nan, nan, nan])"
      ]
     },
     "execution_count": 175,
     "metadata": {},
     "output_type": "execute_result"
    }
   ],
   "source": [
    "x = signal1\n",
    "y = signal2\n",
    "rfft_xcorr(x, y)"
   ]
  },
  {
   "cell_type": "code",
   "execution_count": 176,
   "metadata": {},
   "outputs": [],
   "source": [
    "from scipy import signal, fftpack\n",
    "\n",
    "def get_max_correlation(original, match):\n",
    "    z = signal.fftconvolve(original, match[::-1])\n",
    "    lags = np.arange(z.size) - (match.size - 1)\n",
    "    return ( lags[np.argmax(np.abs(z))] )"
   ]
  },
  {
   "cell_type": "code",
   "execution_count": 177,
   "metadata": {},
   "outputs": [
    {
     "data": {
      "text/plain": [
       "-2499"
      ]
     },
     "execution_count": 177,
     "metadata": {},
     "output_type": "execute_result"
    }
   ],
   "source": [
    "get_max_correlation(signal1, signal2)"
   ]
  },
  {
   "cell_type": "code",
   "execution_count": null,
   "metadata": {},
   "outputs": [],
   "source": [
    "just some imports\n",
    "import numpy as np\n",
    "import pandas as pd\n",
    "import matplotlib.pyplot as plt\n",
    "\n",
    "plt.style.use('ggplot')\n",
    "\n",
    "# load data\n",
    "\n",
    "# normalization before ACF\n",
    "def normalize(data):\n",
    "    return (data - np.mean(data, axis=0).reshape((1, -11))) / (np.std(data, axis=0).reshape((1, -1)))\n",
    "\n",
    "\n",
    "# select subset of columns, seems relevant as a group\n",
    "SCOLS = ['TW_A1','W_A1']\n",
    "\n",
    "# just to see the data\n",
    "f = plt.figure()\n",
    "ax = f.add_subplot(111)\n",
    "df[SCOLS[:2]].iloc[::10].plot(ax=ax)\n",
    "ax.set_title('Raw data')\n",
    "\n",
    "# normalization\n",
    "normalized = normalize(df[SCOLS].values)\n",
    "f = plt.figure()\n",
    "ax = f.add_subplot(111)\n",
    "ax.plot(np.arange(normalized.shape[0]),normalized[:,0], label='TW_A1')\n",
    "ax.plot(np.arange(normalized.shape[0]),normalized[:,1], label='W_A1')\n",
    "ax.set_title('Normalized')\n",
    "\n",
    "# ACF between two components\n",
    "x1x2 = np.correlate(normalized[:, 0], normalized[:, 1], 'full')\n",
    "\n",
    "# see the results\n",
    "f = plt.figure()\n",
    "ax = f.add_subplot(111)\n",
    "ax.plot(x1x2)\n",
    "ax.set_title('ACF')\n",
    "\n",
    "# mainloop\n",
    "plt.show()"
   ]
  },
  {
   "cell_type": "code",
   "execution_count": 154,
   "metadata": {},
   "outputs": [
    {
     "ename": "KeyboardInterrupt",
     "evalue": "",
     "output_type": "error",
     "traceback": [
      "\u001b[1;31m---------------------------------------------------------------------------\u001b[0m",
      "\u001b[1;31mKeyboardInterrupt\u001b[0m                         Traceback (most recent call last)",
      "\u001b[1;32m<ipython-input-154-c2b3ccbc524e>\u001b[0m in \u001b[0;36m<module>\u001b[1;34m\u001b[0m\n\u001b[0;32m     11\u001b[0m \u001b[1;33m\u001b[0m\u001b[0m\n\u001b[0;32m     12\u001b[0m \u001b[1;32mwhile\u001b[0m \u001b[1;32mTrue\u001b[0m\u001b[1;33m:\u001b[0m\u001b[1;33m\u001b[0m\u001b[1;33m\u001b[0m\u001b[0m\n\u001b[1;32m---> 13\u001b[1;33m     \u001b[1;32mif\u001b[0m \u001b[0my\u001b[0m\u001b[1;33m[\u001b[0m\u001b[0mn\u001b[0m\u001b[1;33m+\u001b[0m\u001b[1;36m5\u001b[0m\u001b[1;33m]\u001b[0m\u001b[1;33m>\u001b[0m \u001b[0my\u001b[0m\u001b[1;33m[\u001b[0m\u001b[0mn\u001b[0m\u001b[1;33m]\u001b[0m\u001b[1;33m:\u001b[0m\u001b[1;33m\u001b[0m\u001b[1;33m\u001b[0m\u001b[0m\n\u001b[0m\u001b[0;32m     14\u001b[0m         \u001b[0mn\u001b[0m \u001b[1;33m+=\u001b[0m \u001b[1;36m5\u001b[0m\u001b[1;33m\u001b[0m\u001b[1;33m\u001b[0m\u001b[0m\n\u001b[0;32m     15\u001b[0m         \u001b[1;32mif\u001b[0m \u001b[0my\u001b[0m\u001b[1;33m[\u001b[0m\u001b[0mn\u001b[0m\u001b[1;33m+\u001b[0m\u001b[1;36m5\u001b[0m\u001b[1;33m]\u001b[0m\u001b[1;33m>\u001b[0m \u001b[0my\u001b[0m\u001b[1;33m[\u001b[0m\u001b[0mn\u001b[0m\u001b[1;33m]\u001b[0m\u001b[1;33m:\u001b[0m\u001b[1;33m\u001b[0m\u001b[1;33m\u001b[0m\u001b[0m\n",
      "\u001b[1;32m~\\Anaconda3\\lib\\site-packages\\pandas\\core\\series.py\u001b[0m in \u001b[0;36m__getitem__\u001b[1;34m(self, key)\u001b[0m\n\u001b[0;32m    838\u001b[0m \u001b[1;33m\u001b[0m\u001b[0m\n\u001b[0;32m    839\u001b[0m     \u001b[1;32mdef\u001b[0m \u001b[0m__getitem__\u001b[0m\u001b[1;33m(\u001b[0m\u001b[0mself\u001b[0m\u001b[1;33m,\u001b[0m \u001b[0mkey\u001b[0m\u001b[1;33m)\u001b[0m\u001b[1;33m:\u001b[0m\u001b[1;33m\u001b[0m\u001b[1;33m\u001b[0m\u001b[0m\n\u001b[1;32m--> 840\u001b[1;33m         \u001b[0mkey\u001b[0m \u001b[1;33m=\u001b[0m \u001b[0mcom\u001b[0m\u001b[1;33m.\u001b[0m\u001b[0mapply_if_callable\u001b[0m\u001b[1;33m(\u001b[0m\u001b[0mkey\u001b[0m\u001b[1;33m,\u001b[0m \u001b[0mself\u001b[0m\u001b[1;33m)\u001b[0m\u001b[1;33m\u001b[0m\u001b[1;33m\u001b[0m\u001b[0m\n\u001b[0m\u001b[0;32m    841\u001b[0m \u001b[1;33m\u001b[0m\u001b[0m\n\u001b[0;32m    842\u001b[0m         \u001b[1;32mif\u001b[0m \u001b[0mkey\u001b[0m \u001b[1;32mis\u001b[0m \u001b[0mEllipsis\u001b[0m\u001b[1;33m:\u001b[0m\u001b[1;33m\u001b[0m\u001b[1;33m\u001b[0m\u001b[0m\n",
      "\u001b[1;32m~\\Anaconda3\\lib\\site-packages\\pandas\\core\\common.py\u001b[0m in \u001b[0;36mapply_if_callable\u001b[1;34m(maybe_callable, obj, **kwargs)\u001b[0m\n\u001b[0;32m    326\u001b[0m     \u001b[1;33m**\u001b[0m\u001b[0mkwargs\u001b[0m\u001b[1;33m\u001b[0m\u001b[1;33m\u001b[0m\u001b[0m\n\u001b[0;32m    327\u001b[0m     \"\"\"\n\u001b[1;32m--> 328\u001b[1;33m     \u001b[1;32mif\u001b[0m \u001b[0mcallable\u001b[0m\u001b[1;33m(\u001b[0m\u001b[0mmaybe_callable\u001b[0m\u001b[1;33m)\u001b[0m\u001b[1;33m:\u001b[0m\u001b[1;33m\u001b[0m\u001b[1;33m\u001b[0m\u001b[0m\n\u001b[0m\u001b[0;32m    329\u001b[0m         \u001b[1;32mreturn\u001b[0m \u001b[0mmaybe_callable\u001b[0m\u001b[1;33m(\u001b[0m\u001b[0mobj\u001b[0m\u001b[1;33m,\u001b[0m \u001b[1;33m**\u001b[0m\u001b[0mkwargs\u001b[0m\u001b[1;33m)\u001b[0m\u001b[1;33m\u001b[0m\u001b[1;33m\u001b[0m\u001b[0m\n\u001b[0;32m    330\u001b[0m \u001b[1;33m\u001b[0m\u001b[0m\n",
      "\u001b[1;31mKeyboardInterrupt\u001b[0m: "
     ]
    }
   ],
   "source": [
    "dx =1\n",
    "n =250\n",
    "grad1 = (y[n+1]-y[n])/dx\n",
    "grad2 = (y[n+2]-y[n+1])/dx\n",
    "def isNaN(num):\n",
    "    return num!= num\n",
    "#CHECKING FOR NAN VALUES\n",
    "while isNaN(grad1):\n",
    "    n += 5\n",
    "    grad1 = (y[n+1]-y[n])/dx\n",
    "    \n",
    "while True:\n",
    "    if y[n+5]> y[n]:\n",
    "        n += 5\n",
    "        if y[n+5]> y[n]:\n",
    "            n += 5\n",
    "            if y[n+5]> y[n]:\n",
    "                n += 5\n",
    "                if y[n+5]> y[n]:\n",
    "                    n += 5\n",
    "                    if y[n+5]> y[n]:\n",
    "                        break\n",
    "print(y[n+1], n)   \n",
    "\"\"\"grad2 = (y[n+2]-y[n+1])/dx\n",
    "while grad2 != grad1:\n",
    "    n +1\n",
    "    grad1 = (y[n+1]-y[n])/dx\n",
    "    grad2 = (y[n+2]-y[n+1])/dx\n",
    "        \n",
    "print(grad1,n,grad2)'\n",
    "\"\"\"\n",
    "#print(grad1,grad2)\n",
    "#if grad2 > grad1:\n",
    "#    print(grad1,grad2)\n",
    "#    print(\"Hurray\")\n",
    "\n"
   ]
  },
  {
   "cell_type": "code",
   "execution_count": 114,
   "metadata": {},
   "outputs": [
    {
     "data": {
      "text/plain": [
       "[<matplotlib.lines.Line2D at 0x277432f1f70>]"
      ]
     },
     "execution_count": 114,
     "metadata": {},
     "output_type": "execute_result"
    },
    {
     "data": {
      "image/png": "[encoded data removed]",
      "text/plain": [
       "<Figure size 864x576 with 1 Axes>"
      ]
     },
     "metadata": {
      "needs_background": "light"
     },
     "output_type": "display_data"
    }
   ],
   "source": [
    "plt.plot('Time', 'new_col', '*-c',data =df)"
   ]
  },
  {
   "cell_type": "code",
   "execution_count": 115,
   "metadata": {},
   "outputs": [
    {
     "name": "stdout",
     "output_type": "stream",
     "text": [
      "           Time  Voltage  new_col\n",
      "0           NaN      NaN      NaN\n",
      "1           NaN      NaN      NaN\n",
      "2 -3.890000e-08    -1.48      NaN\n",
      "3 -3.880000e-08    -1.48      NaN\n",
      "4 -3.870000e-08    -1.48      NaN\n",
      "5 -3.860000e-08    -1.48      NaN\n",
      "6 -3.850000e-08    -1.48      NaN\n",
      "7 -3.840000e-08    -1.48      NaN\n",
      "8 -3.830000e-08    -1.48      NaN\n",
      "9 -3.820000e-08    -1.48      NaN\n"
     ]
    },
    {
     "data": {
      "text/plain": [
       "<AxesSubplot:>"
      ]
     },
     "execution_count": 115,
     "metadata": {},
     "output_type": "execute_result"
    },
    {
     "data": {
      "image/png": "[encoded data removed]",
      "text/plain": [
       "<Figure size 864x576 with 1 Axes>"
      ]
     },
     "metadata": {
      "needs_background": "light"
     },
     "output_type": "display_data"
    },
    {
     "data": {
      "image/png": "[encoded data removed]",
      "text/plain": [
       "<Figure size 864x576 with 1 Axes>"
      ]
     },
     "metadata": {
      "needs_background": "light"
     },
     "output_type": "display_data"
    }
   ],
   "source": [
    "\n",
    "# Tail-rolling average transform\n",
    "rolling = df.rolling(window=3)\n",
    "rolling_mean = rolling.mean()\n",
    "print(rolling_mean.head(10))\n",
    "# plot original and transformed dataset\n",
    "df.plot()\n",
    "rolling_mean.plot(color='red')\n",
    "#pyplot.show()"
   ]
  },
  {
   "cell_type": "code",
   "execution_count": null,
   "metadata": {},
   "outputs": [],
   "source": []
  }
 ],
 "metadata": {
  "kernelspec": {
   "display_name": "Python 3",
   "language": "python",
   "name": "python3"
  },
  "language_info": {
   "codemirror_mode": {
    "name": "ipython",
    "version": 3
   },
   "file_extension": ".py",
   "mimetype": "text/x-python",
   "name": "python",
   "nbconvert_exporter": "python",
   "pygments_lexer": "ipython3",
   "version": "3.8.8"
  }
 },
 "nbformat": 4,
 "nbformat_minor": 4
}
